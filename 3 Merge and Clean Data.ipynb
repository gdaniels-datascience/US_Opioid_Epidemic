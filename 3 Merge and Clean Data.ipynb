{
 "cells": [
  {
   "cell_type": "markdown",
   "metadata": {},
   "source": [
    "## 3 Merge and Clean Data\n",
    "\n",
    "This code reads previously extracted data on county-level drug mortality and socioeconomic data from the US Census Bureau. The data sets are merged and cleaned. The resulting data set, which contains 3135 rows and 51 columns, is saved as a csv file for later use."
   ]
  },
  {
   "cell_type": "markdown",
   "metadata": {},
   "source": [
    "## 3.1 Merge Drug Mortality Data with Features / Independent Variables"
   ]
  },
  {
   "cell_type": "code",
   "execution_count": 1,
   "metadata": {},
   "outputs": [],
   "source": [
    "import numpy as np\n",
    "import pandas as pd\n",
    "import matplotlib.pyplot as plt\n",
    "import seaborn as sns"
   ]
  },
  {
   "cell_type": "code",
   "execution_count": 2,
   "metadata": {},
   "outputs": [
    {
     "name": "stdout",
     "output_type": "stream",
     "text": [
      "<class 'pandas.core.frame.DataFrame'>\n",
      "RangeIndex: 3136 entries, 0 to 3135\n",
      "Data columns (total 6 columns):\n",
      "FIPS         3136 non-null int64\n",
      "dm_mean      3136 non-null float64\n",
      "dm_median    3136 non-null int64\n",
      "dm_max       3136 non-null int64\n",
      "dm_min       3136 non-null int64\n",
      "FIPS.1       3136 non-null int64\n",
      "dtypes: float64(1), int64(5)\n",
      "memory usage: 147.1 KB\n"
     ]
    }
   ],
   "source": [
    "# Read in aggregated drug mortality data\n",
    "drug_mort_counties = pd.read_csv('./data/drug_mort_counties.csv')\n",
    "drug_mort_counties.info()"
   ]
  },
  {
   "cell_type": "code",
   "execution_count": 3,
   "metadata": {},
   "outputs": [],
   "source": [
    "# read in census data prepared earlier\n",
    "census = pd.read_csv('./data/county_data_acs5_2015.csv')\n",
    "census = census.drop(columns = ['Unnamed: 0', 'FIPS'])\n",
    "census = census.rename(columns = {'FIPS_NCHS' : 'FIPS'})\n",
    "#census.info()"
   ]
  },
  {
   "cell_type": "code",
   "execution_count": 4,
   "metadata": {},
   "outputs": [],
   "source": [
    "# merge data\n",
    "opioid_us = census.merge(drug_mort_counties, on = 'FIPS', how = 'left')\n",
    "#opioid_us.info()"
   ]
  },
  {
   "cell_type": "code",
   "execution_count": 5,
   "metadata": {},
   "outputs": [],
   "source": [
    "# Save for later\n",
    "opioid_us.to_csv('./data/US_drug_mort_census.csv')"
   ]
  },
  {
   "cell_type": "markdown",
   "metadata": {},
   "source": [
    "## 3.2 Data Cleaning"
   ]
  },
  {
   "cell_type": "code",
   "execution_count": 6,
   "metadata": {},
   "outputs": [],
   "source": [
    "# Function to calculate missing values by column\n",
    "def missing_values_table(df):\n",
    "        # Total missing values\n",
    "        mis_val = df.isnull().sum()\n",
    "        \n",
    "        # Percentage of missing values\n",
    "        mis_val_percent = 100 * df.isnull().sum() / len(df)\n",
    "        \n",
    "        # Make a table with the results\n",
    "        mis_val_table = pd.concat([mis_val, mis_val_percent], axis=1)\n",
    "        \n",
    "        # Rename the columns\n",
    "        mis_val_table_ren_columns = mis_val_table.rename(\n",
    "        columns = {0 : 'Missing Values', 1 : '% of Total Values'})\n",
    "        \n",
    "        # Sort the table by percentage of missing descending\n",
    "        mis_val_table_ren_columns = mis_val_table_ren_columns[\n",
    "            mis_val_table_ren_columns.iloc[:,1] != 0].sort_values(\n",
    "        '% of Total Values', ascending=False).round(1)\n",
    "        \n",
    "        # Print some summary information\n",
    "        print (\"The dataframe has \" + str(df.shape[1]) + \" columns.\\n\"      \n",
    "            \"There are \" + str(mis_val_table_ren_columns.shape[0]) +\n",
    "              \" columns that have missing values.\")\n",
    "        \n",
    "        # Return the dataframe with missing information\n",
    "        return mis_val_table_ren_columns"
   ]
  },
  {
   "cell_type": "code",
   "execution_count": 7,
   "metadata": {
    "scrolled": true
   },
   "outputs": [
    {
     "name": "stdout",
     "output_type": "stream",
     "text": [
      "The dataframe has 75 columns.\n",
      "There are 8 columns that have missing values.\n"
     ]
    },
    {
     "data": {
      "text/html": [
       "<div>\n",
       "<style scoped>\n",
       "    .dataframe tbody tr th:only-of-type {\n",
       "        vertical-align: middle;\n",
       "    }\n",
       "\n",
       "    .dataframe tbody tr th {\n",
       "        vertical-align: top;\n",
       "    }\n",
       "\n",
       "    .dataframe thead th {\n",
       "        text-align: right;\n",
       "    }\n",
       "</style>\n",
       "<table border=\"1\" class=\"dataframe\">\n",
       "  <thead>\n",
       "    <tr style=\"text-align: right;\">\n",
       "      <th></th>\n",
       "      <th>Missing Values</th>\n",
       "      <th>% of Total Values</th>\n",
       "    </tr>\n",
       "  </thead>\n",
       "  <tbody>\n",
       "    <tr>\n",
       "      <th>med_hh_inc</th>\n",
       "      <td>1</td>\n",
       "      <td>0.0</td>\n",
       "    </tr>\n",
       "    <tr>\n",
       "      <th>gini_index</th>\n",
       "      <td>1</td>\n",
       "      <td>0.0</td>\n",
       "    </tr>\n",
       "    <tr>\n",
       "      <th>inc_per_capita</th>\n",
       "      <td>1</td>\n",
       "      <td>0.0</td>\n",
       "    </tr>\n",
       "    <tr>\n",
       "      <th>dm_mean</th>\n",
       "      <td>1</td>\n",
       "      <td>0.0</td>\n",
       "    </tr>\n",
       "    <tr>\n",
       "      <th>dm_median</th>\n",
       "      <td>1</td>\n",
       "      <td>0.0</td>\n",
       "    </tr>\n",
       "    <tr>\n",
       "      <th>dm_max</th>\n",
       "      <td>1</td>\n",
       "      <td>0.0</td>\n",
       "    </tr>\n",
       "    <tr>\n",
       "      <th>dm_min</th>\n",
       "      <td>1</td>\n",
       "      <td>0.0</td>\n",
       "    </tr>\n",
       "    <tr>\n",
       "      <th>FIPS.1</th>\n",
       "      <td>1</td>\n",
       "      <td>0.0</td>\n",
       "    </tr>\n",
       "  </tbody>\n",
       "</table>\n",
       "</div>"
      ],
      "text/plain": [
       "                Missing Values  % of Total Values\n",
       "med_hh_inc                   1                0.0\n",
       "gini_index                   1                0.0\n",
       "inc_per_capita               1                0.0\n",
       "dm_mean                      1                0.0\n",
       "dm_median                    1                0.0\n",
       "dm_max                       1                0.0\n",
       "dm_min                       1                0.0\n",
       "FIPS.1                       1                0.0"
      ]
     },
     "execution_count": 7,
     "metadata": {},
     "output_type": "execute_result"
    }
   ],
   "source": [
    "# Finds columns with missing values\n",
    "missing_values_table(opioid_us)"
   ]
  },
  {
   "cell_type": "code",
   "execution_count": 8,
   "metadata": {},
   "outputs": [],
   "source": [
    "# For some reason FIPS 46102 (Oglala Lakota County) is missing from \n",
    "#   drug_mort_2015 - this is a change of FIPS code\n",
    "#check_miss = opioid_us[opioid_us.drug_mort.isna()]\n",
    "\n",
    "opioid_us = opioid_us[opioid_us['dm_mean'].notnull()]"
   ]
  },
  {
   "cell_type": "code",
   "execution_count": 9,
   "metadata": {},
   "outputs": [
    {
     "name": "stdout",
     "output_type": "stream",
     "text": [
      "The dataframe has 75 columns.\n",
      "There are 3 columns that have missing values.\n"
     ]
    },
    {
     "data": {
      "text/html": [
       "<div>\n",
       "<style scoped>\n",
       "    .dataframe tbody tr th:only-of-type {\n",
       "        vertical-align: middle;\n",
       "    }\n",
       "\n",
       "    .dataframe tbody tr th {\n",
       "        vertical-align: top;\n",
       "    }\n",
       "\n",
       "    .dataframe thead th {\n",
       "        text-align: right;\n",
       "    }\n",
       "</style>\n",
       "<table border=\"1\" class=\"dataframe\">\n",
       "  <thead>\n",
       "    <tr style=\"text-align: right;\">\n",
       "      <th></th>\n",
       "      <th>Missing Values</th>\n",
       "      <th>% of Total Values</th>\n",
       "    </tr>\n",
       "  </thead>\n",
       "  <tbody>\n",
       "    <tr>\n",
       "      <th>med_hh_inc</th>\n",
       "      <td>1</td>\n",
       "      <td>0.0</td>\n",
       "    </tr>\n",
       "    <tr>\n",
       "      <th>gini_index</th>\n",
       "      <td>1</td>\n",
       "      <td>0.0</td>\n",
       "    </tr>\n",
       "    <tr>\n",
       "      <th>inc_per_capita</th>\n",
       "      <td>1</td>\n",
       "      <td>0.0</td>\n",
       "    </tr>\n",
       "  </tbody>\n",
       "</table>\n",
       "</div>"
      ],
      "text/plain": [
       "                Missing Values  % of Total Values\n",
       "med_hh_inc                   1                0.0\n",
       "gini_index                   1                0.0\n",
       "inc_per_capita               1                0.0"
      ]
     },
     "execution_count": 9,
     "metadata": {},
     "output_type": "execute_result"
    }
   ],
   "source": [
    "# Finds columns with missing values\n",
    "missing_values_table(opioid_us)"
   ]
  },
  {
   "cell_type": "code",
   "execution_count": 10,
   "metadata": {},
   "outputs": [],
   "source": [
    "#opioid_us.info()"
   ]
  },
  {
   "cell_type": "code",
   "execution_count": 11,
   "metadata": {},
   "outputs": [
    {
     "data": {
      "text/plain": [
       "2667"
      ]
     },
     "execution_count": 11,
     "metadata": {},
     "output_type": "execute_result"
    }
   ],
   "source": [
    "#Get the row that has med_hh_inc missing\n",
    "row_pos = opioid_us.index[opioid_us['med_hh_inc'].isnull()][0]\n",
    "row_pos"
   ]
  },
  {
   "cell_type": "code",
   "execution_count": 12,
   "metadata": {},
   "outputs": [
    {
     "name": "stdout",
     "output_type": "stream",
     "text": [
      "2666\n",
      "2666 58\n",
      "64179.0\n",
      "2666 60\n",
      "39221.0\n",
      "2666 59\n",
      "0.42\n"
     ]
    }
   ],
   "source": [
    "# Loving Counti TX has missing data that can be found elsewhere\n",
    "#gini index:\n",
    "# http://www.civicdashboards.com/county/loving-county-tx-05000US48301/gini_index\n",
    "#income data:\n",
    "#http://www.txcip.org/tac/census/profile.php?FIPS=48301\n",
    "\n",
    "#Get row of instance that has missing values\n",
    "row_pos = opioid_us.index[opioid_us['med_hh_inc'].isnull()][0]-1\n",
    "print(row_pos)\n",
    "\n",
    "#Get column with missing value and set to correct value\n",
    "col_pos = opioid_us.columns.get_loc('med_hh_inc')\n",
    "opioid_us.iat[row_pos, col_pos] = 64179\n",
    "print(row_pos, col_pos)\n",
    "\n",
    "print(opioid_us.iat[row_pos, col_pos])\n",
    "\n",
    "#Get column with missing value and set to correct value\n",
    "col_pos = opioid_us.columns.get_loc('inc_per_capita')\n",
    "opioid_us.iat[row_pos, col_pos] = 39221\n",
    "print(row_pos, col_pos)\n",
    "\n",
    "print(opioid_us.iat[row_pos, col_pos])\n",
    "\n",
    "#Get column with missing value and set to correct value\n",
    "col_pos = opioid_us.columns.get_loc('gini_index')\n",
    "opioid_us.iat[row_pos, col_pos] = .42\n",
    "print(row_pos, col_pos)\n",
    "\n",
    "print(opioid_us.iat[row_pos, col_pos])"
   ]
  },
  {
   "cell_type": "code",
   "execution_count": 13,
   "metadata": {},
   "outputs": [
    {
     "data": {
      "text/plain": [
       "Int64Index([2667], dtype='int64')"
      ]
     },
     "execution_count": 13,
     "metadata": {},
     "output_type": "execute_result"
    }
   ],
   "source": [
    "opioid_us.index[opioid_us['med_hh_inc']==64179]"
   ]
  },
  {
   "cell_type": "code",
   "execution_count": 14,
   "metadata": {
    "scrolled": false
   },
   "outputs": [
    {
     "name": "stdout",
     "output_type": "stream",
     "text": [
      "The dataframe has 75 columns.\n",
      "There are 0 columns that have missing values.\n"
     ]
    },
    {
     "data": {
      "text/html": [
       "<div>\n",
       "<style scoped>\n",
       "    .dataframe tbody tr th:only-of-type {\n",
       "        vertical-align: middle;\n",
       "    }\n",
       "\n",
       "    .dataframe tbody tr th {\n",
       "        vertical-align: top;\n",
       "    }\n",
       "\n",
       "    .dataframe thead th {\n",
       "        text-align: right;\n",
       "    }\n",
       "</style>\n",
       "<table border=\"1\" class=\"dataframe\">\n",
       "  <thead>\n",
       "    <tr style=\"text-align: right;\">\n",
       "      <th></th>\n",
       "      <th>Missing Values</th>\n",
       "      <th>% of Total Values</th>\n",
       "    </tr>\n",
       "  </thead>\n",
       "  <tbody>\n",
       "  </tbody>\n",
       "</table>\n",
       "</div>"
      ],
      "text/plain": [
       "Empty DataFrame\n",
       "Columns: [Missing Values, % of Total Values]\n",
       "Index: []"
      ]
     },
     "execution_count": 14,
     "metadata": {},
     "output_type": "execute_result"
    }
   ],
   "source": [
    "missing_values_table(opioid_us)"
   ]
  },
  {
   "cell_type": "code",
   "execution_count": 15,
   "metadata": {},
   "outputs": [],
   "source": [
    "# combine age categories to reduce number of fields\n",
    "opioid_us['age_under_18_p'] = (opioid_us.age_under_5_p + opioid_us.age_5_9_p + opioid_us.age_10_14_p + opioid_us.age_15_17_p + \n",
    "                               opioid_us.age_18_19_p + opioid_us.age_15_17_p)\n",
    "opioid_us['age_18_39_p'] = (opioid_us.age_18_19_p + opioid_us.age_20_p + opioid_us.age_21_p + opioid_us.age_22_24_p + \n",
    "                            opioid_us.age_25_29_p + opioid_us.age_30_34_p + opioid_us.age_35_39_p)\n",
    "opioid_us['age_40_64_p'] = (opioid_us.age_40_44_p + opioid_us.age_45_49_p + opioid_us.age_50_54_p + opioid_us.age_55_59_p + \n",
    "                            opioid_us.age_60_61_p + opioid_us.age_62_64_p)\n",
    "opioid_us['age_64_over_p'] = (opioid_us.age_65_66_p + opioid_us.age_67_69_p + opioid_us.age_70_74_p + opioid_us.age_75_79_p + \n",
    "                            opioid_us.age_80_84_p + opioid_us.age_85_over_p)\n",
    "\n",
    "# combine race categories\n",
    "opioid_us['race_all_other_p'] = (opioid_us.race_native_amer_p + opioid_us.race_asian_p + \n",
    "                                opioid_us.race_pac_islander_p + opioid_us.race_other_p + opioid_us.race_multi_p)\n",
    "\n",
    "opioid_us_num = opioid_us.drop(columns = ['urban_2006', \n",
    "                                        'age_under_5_p', \n",
    "                                        'age_5_9_p', \n",
    "                                        'age_10_14_p', \n",
    "                                        'age_15_17_p', \n",
    "                                        'age_18_19_p', \n",
    "                                        'age_20_p', \n",
    "                                        'age_21_p', \n",
    "                                        'age_22_24_p', \n",
    "                                        'age_25_29_p', \n",
    "                                        'age_30_34_p', \n",
    "                                        'age_35_39_p', \n",
    "                                        'age_40_44_p', \n",
    "                                        'age_45_49_p', \n",
    "                                        'age_50_54_p', \n",
    "                                        'age_55_59_p', \n",
    "                                        'age_60_61_p', \n",
    "                                        'age_62_64_p', \n",
    "                                        'age_65_66_p', \n",
    "                                        'age_67_69_p', \n",
    "                                        'age_70_74_p', \n",
    "                                        'age_75_79_p', \n",
    "                                        'age_80_84_p', \n",
    "                                        'age_85_over_p',\n",
    "                                        'race_native_amer_p',\n",
    "                                        'race_asian_p', \n",
    "                                        'race_pac_islander_p',\n",
    "                                        'race_other_p', \n",
    "                                        'race_multi_p'])"
   ]
  },
  {
   "cell_type": "code",
   "execution_count": 16,
   "metadata": {},
   "outputs": [],
   "source": [
    "#Save for later use\n",
    "opioid_us_num.to_csv('./data/US_drug_mort_census_num.csv', index=False)"
   ]
  },
  {
   "cell_type": "code",
   "execution_count": 17,
   "metadata": {
    "scrolled": false
   },
   "outputs": [
    {
     "name": "stdout",
     "output_type": "stream",
     "text": [
      "<class 'pandas.core.frame.DataFrame'>\n",
      "Int64Index: 3135 entries, 0 to 3135\n",
      "Data columns (total 51 columns):\n",
      "FIPS                   3135 non-null int64\n",
      "totpop                 3135 non-null int64\n",
      "sex_male_p             3135 non-null float64\n",
      "sex_female_p           3135 non-null float64\n",
      "race_white_p           3135 non-null float64\n",
      "race_black_p           3135 non-null float64\n",
      "kid_home_fam_p         3135 non-null float64\n",
      "kid_home_fam2_p        3135 non-null float64\n",
      "kid_home_fam1_p        3135 non-null float64\n",
      "kid_home_nonfam_p      3135 non-null float64\n",
      "adult_home_alone_p     3135 non-null float64\n",
      "adult_home_fam_p       3135 non-null float64\n",
      "adult_home_nonfam_p    3135 non-null float64\n",
      "marry_never_p          3135 non-null float64\n",
      "married_p              3135 non-null float64\n",
      "marry_past_p           3135 non-null float64\n",
      "ed_at_HS_p             3135 non-null float64\n",
      "ed_at_some_coll_p      3135 non-null float64\n",
      "ed_at_coll_grad_p      3135 non-null float64\n",
      "pov_p                  3135 non-null float64\n",
      "pov_kid_p              3135 non-null float64\n",
      "pov_adult_p            3135 non-null float64\n",
      "disability_p           3135 non-null float64\n",
      "urban_2013             3135 non-null float64\n",
      "vet_p                  3135 non-null float64\n",
      "earn_inc_p             3135 non-null float64\n",
      "ss_inc_p               3135 non-null float64\n",
      "ssi_inc_p              3135 non-null float64\n",
      "pub_inc_p              3135 non-null float64\n",
      "med_hh_inc             3135 non-null float64\n",
      "gini_index             3135 non-null float64\n",
      "inc_per_capita         3135 non-null float64\n",
      "labor_force_p          3135 non-null float64\n",
      "unemp_p                3135 non-null float64\n",
      "ins_priv_18_64_p       3135 non-null float64\n",
      "ins_priv_65_up_p       3135 non-null float64\n",
      "ins_pub_18_64_p        3135 non-null float64\n",
      "ins_pub_65_up_p        3135 non-null float64\n",
      "ins_none_18_64_p       3135 non-null float64\n",
      "ins_none_65_up_p       3135 non-null float64\n",
      "hisp_p                 3135 non-null float64\n",
      "dm_mean                3135 non-null float64\n",
      "dm_median              3135 non-null float64\n",
      "dm_max                 3135 non-null float64\n",
      "dm_min                 3135 non-null float64\n",
      "FIPS.1                 3135 non-null float64\n",
      "age_under_18_p         3135 non-null float64\n",
      "age_18_39_p            3135 non-null float64\n",
      "age_40_64_p            3135 non-null float64\n",
      "age_64_over_p          3135 non-null float64\n",
      "race_all_other_p       3135 non-null float64\n",
      "dtypes: float64(49), int64(2)\n",
      "memory usage: 1.2 MB\n"
     ]
    }
   ],
   "source": [
    "opioid_us_num.info()"
   ]
  }
 ],
 "metadata": {
  "kernelspec": {
   "display_name": "Python 3",
   "language": "python",
   "name": "python3"
  },
  "language_info": {
   "codemirror_mode": {
    "name": "ipython",
    "version": 3
   },
   "file_extension": ".py",
   "mimetype": "text/x-python",
   "name": "python",
   "nbconvert_exporter": "python",
   "pygments_lexer": "ipython3",
   "version": "3.6.5"
  }
 },
 "nbformat": 4,
 "nbformat_minor": 2
}
